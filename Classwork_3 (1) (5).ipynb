{
  "nbformat": 4,
  "nbformat_minor": 0,
  "metadata": {
    "colab": {
      "name": "Classwork_3.ipynb",
      "provenance": []
    },
    "kernelspec": {
      "name": "python3",
      "display_name": "Python 3"
    }
  },
  "cells": [
    {
      "cell_type": "markdown",
      "metadata": {
        "id": "bvd7wr-iVCJU"
      },
      "source": [
        "(1) A die with four sides p=[1/8,1/8,1/2,1/4]. What is the entropy of this random variable? \n",
        "      Which probability distribution will result the maximum entropy?"
      ]
    },
    {
      "cell_type": "code",
      "metadata": {
        "id": "CA4URyJBU0eR"
      },
      "source": [
        "H = # your code\n",
        "H"
      ],
      "execution_count": null,
      "outputs": []
    },
    {
      "cell_type": "markdown",
      "metadata": {
        "id": "AY61UfbTVP7D"
      },
      "source": [
        "(2) Generate a sample from a normal distribution with mean = 100 and standard deviation = 15. Bootstrap a sampling distribution from this sample, e.g, resample this sample 1000 times, and calculate a confidence interval (middle 95%) for the median of the population."
      ]
    },
    {
      "cell_type": "code",
      "metadata": {
        "id": "aRmq3UgYVRGe"
      },
      "source": [
        "# Hint: random normal function takes (loc = 100, scale =15,size=100) as input\n",
        "# use np.median()"
      ],
      "execution_count": null,
      "outputs": []
    }
  ]
}